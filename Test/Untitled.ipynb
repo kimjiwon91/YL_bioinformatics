{
 "cells": [
  {
   "cell_type": "code",
   "execution_count": 1,
   "id": "897cb213",
   "metadata": {},
   "outputs": [],
   "source": [
    "from Bio import SeqIO"
   ]
  },
  {
   "cell_type": "code",
   "execution_count": null,
   "id": "3b927ccd",
   "metadata": {},
   "outputs": [],
   "source": [
    "records = SeqIO.parse(\"WT_1.fastq\", \"fastq\")\n",
    "count = SeqIO.write(records, \"WT_1.genbank\", \"genbank\")\n",
    "print(\"Converted %i records\" % count)"
   ]
  }
 ],
 "metadata": {
  "kernelspec": {
   "display_name": "Python 3 (ipykernel)",
   "language": "python",
   "name": "python3"
  },
  "language_info": {
   "codemirror_mode": {
    "name": "ipython",
    "version": 3
   },
   "file_extension": ".py",
   "mimetype": "text/x-python",
   "name": "python",
   "nbconvert_exporter": "python",
   "pygments_lexer": "ipython3",
   "version": "3.9.12"
  }
 },
 "nbformat": 4,
 "nbformat_minor": 5
}
