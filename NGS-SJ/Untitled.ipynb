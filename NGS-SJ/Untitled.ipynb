{
 "cells": [
  {
   "cell_type": "code",
   "execution_count": null,
   "id": "d0a9075a",
   "metadata": {},
   "outputs": [],
   "source": [
    "### Whole genome sequencing data analysis ###\n",
    "\n",
    "## 가상환경 구축\n",
    "# conda create -n breseq2 #'breseq2'=가상환경 이름\n",
    "# conda activate breseq2\n",
    "\n",
    "## 패키지 인스톨\n",
    "# conda install -c conda-forge gzip\n",
    "# conda install -c bioconda trim-galore\n",
    "# conda install -c bioconda breseq\n",
    "# conda install -c conda-forge r-base\n"
   ]
  },
  {
   "cell_type": "code",
   "execution_count": null,
   "id": "784ba033",
   "metadata": {},
   "outputs": [],
   "source": [
    "## 시퀀싱 데이터 퀄리티 확인\n",
    "# gunzip RXI_1.fastq.gz\n",
    "# \n",
    "\n",
    "## breseq 러닝\n",
    "# "
   ]
  }
 ],
 "metadata": {
  "kernelspec": {
   "display_name": "Python 3 (ipykernel)",
   "language": "python",
   "name": "python3"
  },
  "language_info": {
   "codemirror_mode": {
    "name": "ipython",
    "version": 3
   },
   "file_extension": ".py",
   "mimetype": "text/x-python",
   "name": "python",
   "nbconvert_exporter": "python",
   "pygments_lexer": "ipython3",
   "version": "3.10.4"
  }
 },
 "nbformat": 4,
 "nbformat_minor": 5
}
