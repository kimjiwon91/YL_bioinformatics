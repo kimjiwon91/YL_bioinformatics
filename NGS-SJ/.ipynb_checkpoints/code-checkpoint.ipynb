{
 "cells": [
  {
   "cell_type": "markdown",
   "id": "19a769c5",
   "metadata": {},
   "source": [
    "# Whole genome sequencing data analysis for *C. necator*"
   ]
  },
  {
   "cell_type": "markdown",
   "id": "4fc7faef",
   "metadata": {},
   "source": [
    "## 분석 환경 구축 및 자료 준비"
   ]
  },
  {
   "cell_type": "code",
   "execution_count": 1,
   "id": "a387e588",
   "metadata": {},
   "outputs": [
    {
     "data": {
      "text/plain": [
       "'/Users/jiwonkim/Library/CloudStorage/OneDrive-개인/YL_bioinformatics/NGS-SJ'"
      ]
     },
     "execution_count": 1,
     "metadata": {},
     "output_type": "execute_result"
    }
   ],
   "source": [
    "# 가상환경 구축\n",
    "#### conda create -n breseq2 #'breseq2'=가상환경 이름\n",
    "#### conda activate breseq2\n",
    "\n",
    "## 패키지 인스톨\n",
    "#### conda install -c conda-forge gzip\n",
    "#### conda install -c bioconda trim-galore\n",
    "#### conda install -c bioconda breseq\n",
    "#### conda install -c conda-forge r-base\n",
    "#### pip install jupyter notebook\n",
    "#### pip install pandas\n",
    "#### pip install openpyxl\n",
    "#### pip install xlsxwriter\n",
    "\n",
    "# 엑셀 데이터 분석을 위한 패키지 불러오기\n",
    "import openpyxl\n",
    "import xlsxwriter\n",
    "import pandas as pd\n",
    "import os\n",
    "\n",
    "import matplotlib.pyplot as plt\n",
    "import matplotlib_venn\n",
    "from matplotlib_venn import venn2\n",
    "from matplotlib_venn import venn3\n",
    "from venn import venn\n",
    "\n",
    "\n",
    "# 현재 경로 확인\n",
    "os.getcwd()"
   ]
  },
  {
   "cell_type": "code",
   "execution_count": 2,
   "id": "19c3979a",
   "metadata": {},
   "outputs": [],
   "source": [
    "## 분석자료 준비\n",
    "\n",
    "## genome 파일, 시퀀싱 파일, 주피터 노트북 파일을 한 폴더로 이동시키고, 경로를 설정\n",
    "# cd /Users/jiwonkim/Downloads\n",
    "\n",
    "## 시퀀싱 데이터 퀄리티 확인\n",
    "# gunzip RXI_1.fastq.gz\n",
    "# trim_galore -o ./trimming RXI_1.fastq --paired --fastqc --illumina \n",
    "# 결과로 나오는 RXI_1_val.fq 파일을 앞으로 사용함\n",
    "\n",
    "## Annotated reference genome data 확인\n",
    "# Cupriavidus necator H16: https://www.ncbi.nlm.nih.gov/datasets/genome/GCF_004798725.1/\n",
    "# reference genome: GCA_004798725.1_ASM479872v1_genome.gbff 이름으로 저장"
   ]
  },
  {
   "cell_type": "markdown",
   "id": "896ce237",
   "metadata": {},
   "source": [
    "## NGS 데이터 분석"
   ]
  },
  {
   "cell_type": "code",
   "execution_count": 3,
   "id": "470d2c85",
   "metadata": {},
   "outputs": [],
   "source": [
    "## breseq 러닝\n",
    "\n",
    "## breseq -j 8 -p -r GCA_004798725.1_ASM479872v1_genome.gbff RXI_1_val_1.fq RXI_2_val_2.fq -o breseq_output_RXI\n",
    "# -j 8 : threads number=8\n",
    "# -r GCA_004798725.1_ASM479872v1_genome.gbff.gbff : \n",
    "#     reference genome이 GCA_004798725.1_ASM479872v1_genome.gbff.gbff라고 알림\n",
    "# -o breseq_output_RXI : 결과 파일이 breseq_output_RXI 폴더에 저장되도록 지시"
   ]
  },
  {
   "cell_type": "markdown",
   "id": "5b62ef8e",
   "metadata": {},
   "source": [
    "## 결과 정리 및 specific mutation 확인"
   ]
  },
  {
   "cell_type": "markdown",
   "id": "54250672",
   "metadata": {},
   "source": [
    "### RXI vs RXI22 (evolved) NGS 결과 해석"
   ]
  },
  {
   "cell_type": "code",
   "execution_count": 4,
   "id": "e3997a29",
   "metadata": {},
   "outputs": [],
   "source": [
    "# 엑셀 파일 불러오기\n",
    "excel_file = \"RXI_results_merged.xlsx\"\n",
    "\n",
    "# 엑셀 파일로 데이터프레임 생성\n",
    "df1 = pd.read_excel(excel_file, sheet_name='RXI_raw')\n",
    "\n",
    "# 데이터프레임 안에서 열 내용 합치고 순서 변경\n",
    "df1['position'] = df1['position'].astype(str)\n",
    "df1['seq_id'] = df1['seq_id'].astype(str)\n",
    "df1['seq_id_position'] = df1['seq_id'] + '_' + df1['position']\n",
    "df1 = df1.drop(['seq_id', 'position'], axis=1)\n",
    "new_order = ['evidence', 'seq_id_position', 'freq', 'mutation', 'annotation', 'gene', 'description']\n",
    "df1 = df1[new_order]\n",
    "#print(df1)\n",
    "\n",
    "# 특정 freq 이상을 가지는 값만 필터링\n",
    "filtered_df_RXI = df1[(df1['freq'] >= 0.8)]\n",
    "#print(filtered_df_RXI)\n",
    "\n",
    "# 엑셀에 필터링된 값 재입력\n",
    "with pd.ExcelWriter(excel_file, engine='openpyxl', mode='a') as writer:\n",
    "    filtered_df_RXI.to_excel(writer, sheet_name='RXI_freq_0.8', index=False)"
   ]
  },
  {
   "cell_type": "code",
   "execution_count": 5,
   "id": "490b830c",
   "metadata": {},
   "outputs": [],
   "source": [
    "# 엑셀 파일로 데이터프레임 생성\n",
    "df2 = pd.read_excel(excel_file, sheet_name='RXI22_raw')\n",
    "\n",
    "# 데이터프레임 안에서 열 내용 합치고 순서 변경\n",
    "df2['position'] = df2['position'].astype(str)\n",
    "df2['seq_id'] = df2['seq_id'].astype(str)\n",
    "df2['seq_id_position'] = df2['seq_id'] + '_' + df2['position']\n",
    "df2 = df2.drop(['seq_id', 'position'], axis=1)\n",
    "new_order = ['evidence', 'seq_id_position', 'freq', 'mutation', 'annotation', 'gene', 'description']\n",
    "df2 = df2[new_order]\n",
    "#print(df2)\n",
    "\n",
    "# 특정 freq 이상을 가지는 값만 필터링\n",
    "filtered_df_RXI22 = df2[(df2['freq'] >= 0.8)]\n",
    "#print(filtered_df_RXI22)\n",
    "\n",
    "# 엑셀에 필터링된 값 재입력\n",
    "with pd.ExcelWriter(excel_file, engine='openpyxl', mode='a') as writer:\n",
    "    filtered_df_RXI22.to_excel(writer, sheet_name='RXI22_freq_0.8', index=False)"
   ]
  },
  {
   "cell_type": "code",
   "execution_count": 6,
   "id": "4beef697",
   "metadata": {},
   "outputs": [
    {
     "name": "stdout",
     "output_type": "stream",
     "text": [
      "1105\n",
      "1284\n",
      "35\n",
      "39\n"
     ]
    }
   ],
   "source": [
    "# 전체 mutation 개수 확인\n",
    "print(len(df1))\n",
    "print(len(df2))\n",
    "\n",
    "# frequency 0.8 이상의 mutation 개수 확인\n",
    "print(len(filtered_df_RXI))\n",
    "print(len(filtered_df_RXI22))"
   ]
  },
  {
   "cell_type": "code",
   "execution_count": 7,
   "id": "52793d6a",
   "metadata": {},
   "outputs": [],
   "source": [
    "# 필터링된 RXI와 RXI22 데이터프레임 병합\n",
    "merged_df_RXI = pd.merge(filtered_df_RXI, filtered_df_RXI22, on=['seq_id_position'], how='outer', indicator=True)\n",
    "#print (merged_df_RXI)"
   ]
  },
  {
   "cell_type": "code",
   "execution_count": 8,
   "id": "3e055591",
   "metadata": {},
   "outputs": [
    {
     "name": "stdout",
     "output_type": "stream",
     "text": [
      "0\n",
      "35\n",
      "4\n"
     ]
    }
   ],
   "source": [
    "#각 그룹에서의 mutation 개수 확인 \n",
    "RXI_count = len(merged_df_RXI[merged_df_RXI['_merge'] == 'left_only'])\n",
    "both_count = len(merged_df_RXI[merged_df_RXI['_merge'] == 'both'])\n",
    "RXI22_count = len(merged_df_RXI[merged_df_RXI['_merge'] == 'right_only'])\n",
    "\n",
    "print (RXI_count)\n",
    "print (both_count)\n",
    "print (RXI22_count)"
   ]
  },
  {
   "cell_type": "code",
   "execution_count": 9,
   "id": "c692502d",
   "metadata": {},
   "outputs": [],
   "source": [
    "# 엑셀에 병합된 데이터프레임 입력\n",
    "with pd.ExcelWriter(excel_file, engine='openpyxl', mode='a') as writer:\n",
    "    merged_df_RXI.to_excel(writer, sheet_name='merged_RXI', index=False)"
   ]
  },
  {
   "cell_type": "code",
   "execution_count": 10,
   "id": "8621375d",
   "metadata": {},
   "outputs": [],
   "source": [
    "# RXI22 specific mutation 확인\n",
    "RXI22_only_df = merged_df_RXI[merged_df_RXI['_merge'] == 'right_only']\n",
    "#print(RXI22_only_df)\n",
    "\n",
    "# 엑셀에 RXI22 specific mutation 입력\n",
    "with pd.ExcelWriter(excel_file, engine='openpyxl', mode='a') as writer:\n",
    "    RXI22_only_df.to_excel(writer, sheet_name='RXI22_only', index=False)"
   ]
  },
  {
   "cell_type": "markdown",
   "id": "1f5e12ff",
   "metadata": {},
   "source": [
    "### RXW vs RXW62 (evolved) NGS 결과 해석"
   ]
  },
  {
   "cell_type": "code",
   "execution_count": 11,
   "id": "011fd0fa",
   "metadata": {},
   "outputs": [],
   "source": [
    "# 엑셀 파일 불러오기\n",
    "excel_file2 = \"RXW_results_merged.xlsx\"\n",
    "\n",
    "# 엑셀 파일로 데이터프레임 생성\n",
    "df3 = pd.read_excel(excel_file2, sheet_name='RXW_raw')\n",
    "\n",
    "# 데이터프레임 안에서 열 내용 합치고 순서 변경\n",
    "df3['position'] = df3['position'].astype(str)\n",
    "df3['seq_id'] = df3['seq_id'].astype(str)\n",
    "df3['seq_id_position'] = df3['seq_id'] + '_' + df3['position']\n",
    "df3 = df3.drop(['seq_id', 'position'], axis=1)\n",
    "new_order = ['evidence', 'seq_id_position', 'freq', 'mutation', 'annotation', 'gene', 'description']\n",
    "df3 = df3[new_order]\n",
    "#print(df3)\n",
    "\n",
    "# 특정 freq 이상을 가지는 값만 필터링\n",
    "filtered_df_RXW = df3[(df3['freq'] >= 0.8)]\n",
    "#print(filtered_df_RXW)\n",
    "\n",
    "# 엑셀에 필터링된 값 재입력\n",
    "with pd.ExcelWriter(excel_file2, engine='openpyxl', mode='a') as writer:\n",
    "    filtered_df_RXW.to_excel(writer, sheet_name='RXW_freq_0.8', index=False)"
   ]
  },
  {
   "cell_type": "code",
   "execution_count": 12,
   "id": "1e2fc598",
   "metadata": {},
   "outputs": [],
   "source": [
    "# 엑셀 파일로 데이터프레임 생성\n",
    "df4 = pd.read_excel(excel_file2, sheet_name='RXW62_raw')\n",
    "\n",
    "# 데이터프레임 안에서 열 내용 합치고 순서 변경\n",
    "df4['position'] = df4['position'].astype(str)\n",
    "df4['seq_id'] = df4['seq_id'].astype(str)\n",
    "df4['seq_id_position'] = df4['seq_id'] + '_' + df4['position']\n",
    "df4 = df4.drop(['seq_id', 'position'], axis=1)\n",
    "new_order = ['evidence', 'seq_id_position', 'freq', 'mutation', 'annotation', 'gene', 'description']\n",
    "df4 = df4[new_order]\n",
    "#print(df4)\n",
    "\n",
    "# 특정 freq 이상을 가지는 값만 필터링\n",
    "filtered_df_RXW62 = df4[(df4['freq'] >= 0.8)]\n",
    "#print(filtered_df_RXW62)\n",
    "\n",
    "# 엑셀에 필터링된 값 재입력\n",
    "with pd.ExcelWriter(excel_file2, engine='openpyxl', mode='a') as writer:\n",
    "    filtered_df_RXW62.to_excel(writer, sheet_name='RXW62_freq_0.8', index=False)"
   ]
  },
  {
   "cell_type": "code",
   "execution_count": 13,
   "id": "a7206626",
   "metadata": {},
   "outputs": [
    {
     "name": "stdout",
     "output_type": "stream",
     "text": [
      "1169\n",
      "1148\n",
      "34\n",
      "39\n"
     ]
    }
   ],
   "source": [
    "# 전체 mutation 개수 확인\n",
    "print(len(df3))\n",
    "print(len(df4))\n",
    "\n",
    "# frequency 0.8 이상의 mutation 개수 확인\n",
    "print(len(filtered_df_RXW))\n",
    "print(len(filtered_df_RXW62))"
   ]
  },
  {
   "cell_type": "code",
   "execution_count": 14,
   "id": "e20d4eb5",
   "metadata": {},
   "outputs": [],
   "source": [
    "# 필터링된 RXI와 RXI22 데이터프레임 병합\n",
    "merged_df_RXW = pd.merge(filtered_df_RXW, filtered_df_RXW62, on=['seq_id_position'], how='outer', indicator=True)\n",
    "#print (merged_df_RXW)"
   ]
  },
  {
   "cell_type": "code",
   "execution_count": 15,
   "id": "d41c794d",
   "metadata": {},
   "outputs": [
    {
     "name": "stdout",
     "output_type": "stream",
     "text": [
      "0\n",
      "34\n",
      "5\n"
     ]
    }
   ],
   "source": [
    "#각 그룹에서의 mutation 개수 확인 \n",
    "RXW_count = len(merged_df_RXW[merged_df_RXW['_merge'] == 'left_only'])\n",
    "both_count = len(merged_df_RXW[merged_df_RXW['_merge'] == 'both'])\n",
    "RXW62_count = len(merged_df_RXW[merged_df_RXW['_merge'] == 'right_only'])\n",
    "\n",
    "print (RXW_count)\n",
    "print (both_count)\n",
    "print (RXW62_count)"
   ]
  },
  {
   "cell_type": "code",
   "execution_count": 16,
   "id": "85bdb18a",
   "metadata": {},
   "outputs": [],
   "source": [
    "# 엑셀에 병합된 데이터프레임 입력\n",
    "with pd.ExcelWriter(excel_file2, engine='openpyxl', mode='a') as writer:\n",
    "    merged_df_RXW.to_excel(writer, sheet_name='merged_RXW', index=False)"
   ]
  },
  {
   "cell_type": "code",
   "execution_count": 17,
   "id": "5558a02d",
   "metadata": {},
   "outputs": [],
   "source": [
    "# RXI22 specific mutation 확인\n",
    "RXW62_only_df = merged_df_RXW[merged_df_RXW['_merge'] == 'right_only']\n",
    "#print(RXW62_only_df)\n",
    "\n",
    "# 엑셀에 RXI22 specific mutation 입력\n",
    "with pd.ExcelWriter(excel_file2, engine='openpyxl', mode='a') as writer:\n",
    "    RXW62_only_df.to_excel(writer, sheet_name='RXW62_only', index=False)"
   ]
  },
  {
   "cell_type": "markdown",
   "id": "13f7de01",
   "metadata": {},
   "source": [
    "### RXI22 vs RXW62 NGS 결과 해석"
   ]
  },
  {
   "cell_type": "code",
   "execution_count": 18,
   "id": "0e0e094c",
   "metadata": {},
   "outputs": [],
   "source": [
    "merged_df_22_62 = pd.merge(filtered_df_RXI22, filtered_df_RXW62, on=['seq_id_position'], how='outer', indicator=True)\n",
    "#print (merged_df_22_62)"
   ]
  },
  {
   "cell_type": "code",
   "execution_count": 19,
   "id": "ba1b1b6f",
   "metadata": {},
   "outputs": [
    {
     "name": "stdout",
     "output_type": "stream",
     "text": [
      "3\n",
      "36\n",
      "3\n"
     ]
    }
   ],
   "source": [
    "RXI22_count = len(merged_df_22_62[merged_df_22_62['_merge'] == 'left_only'])\n",
    "both_count = len(merged_df_22_62[merged_df_22_62['_merge'] == 'both'])\n",
    "RXW62_count = len(merged_df_22_62[merged_df_22_62['_merge'] == 'right_only'])\n",
    "\n",
    "print (RXI22_count)\n",
    "print (both_count)\n",
    "print (RXW62_count)"
   ]
  },
  {
   "cell_type": "code",
   "execution_count": 20,
   "id": "ca5c1a9b",
   "metadata": {},
   "outputs": [],
   "source": [
    "merged_df_22_62.to_excel('RXI22_RXW62_mutations.xlsx', sheet_name='RXI22_RXW62_mutations')\n",
    "\n",
    "excel_file3 = \"RXI22_RXW62_mutations.xlsx\"\n",
    "\n",
    "both_22_62_df = merged_df_22_62[merged_df_22_62['_merge'] == 'both']\n",
    "RXI22only_df = merged_df_22_62[merged_df_22_62['_merge'] == 'left_only']\n",
    "RXW62only_df = merged_df_22_62[merged_df_22_62['_merge'] == 'right_only']\n",
    "#print(both_22_62_df)\n",
    "\n",
    "with pd.ExcelWriter(excel_file3, engine='openpyxl', mode='a') as writer:\n",
    "    both_22_62_df.to_excel(writer, sheet_name='both_RXI22_RXW62', index=False)\n",
    "    RXI22only_df.to_excel(writer, sheet_name='RXI22_only', index=False)\n",
    "    RXW62only_df.to_excel(writer, sheet_name='RXW62_only', index=False)    "
   ]
  },
  {
   "cell_type": "markdown",
   "id": "5656ab76",
   "metadata": {},
   "source": [
    "### 벤 다이어그램 형성 - 기초적인 python에서의 그림\n",
    "\n",
    "#### 더 예쁜 그림을 원하면 https://bioinformatics.psb.ugent.be/webtools/Venn/ 사용을 추천."
   ]
  },
  {
   "cell_type": "code",
   "execution_count": 33,
   "id": "66b48837",
   "metadata": {},
   "outputs": [
    {
     "data": {
      "image/png": "[encoded data removed]",
      "text/plain": [
       "<Figure size 800x800 with 1 Axes>"
      ]
     },
     "metadata": {},
     "output_type": "display_data"
    }
   ],
   "source": [
    "# 'seq_id_position'을 기준으로 두 데이터프레임을 합침\n",
    "merged_df = pd.merge(df1, df2, on='seq_id_position', how='outer')\n",
    "\n",
    "# 벤 다이어그램을 그리기 위한 데이터 추출\n",
    "set1 = set(df1['seq_id_position'])\n",
    "set2 = set(df2['seq_id_position'])\n",
    "venn_values = (len(set1 - set2), len(set1 & set2), len(set2 - set1))\n",
    "\n",
    "# 벤 다이어그램 그리기\n",
    "venn_labels = {'100': f\"{venn_values[0]}\",\n",
    "               '010': f\"{venn_values[2]}\",\n",
    "               '001': f\"{venn_values[1]}\"}\n",
    "\n",
    "plt.figure(figsize=(8, 8))\n",
    "venn = venn2(subsets=(len(set1 - set2), len(set2 - set1), len(set1 & set2)),\n",
    "                 set_labels=('RXI', 'RXI22'))\n",
    "venn.get_label_by_id('01').set_text(venn_labels['001'])\n",
    "\n",
    "#plt.title(\"Venn Diagram of DF1 and DF2\")\n",
    "plt.savefig('YXI.jpg', format = 'jpeg')\n",
    "plt.show()"
   ]
  },
  {
   "cell_type": "code",
   "execution_count": 34,
   "id": "a0b9bcac",
   "metadata": {},
   "outputs": [
    {
     "data": {
      "image/png": "[encoded data removed]",
      "text/plain": [
       "<Figure size 800x800 with 1 Axes>"
      ]
     },
     "metadata": {},
     "output_type": "display_data"
    }
   ],
   "source": [
    "# 'seq_id_position'을 기준으로 두 데이터프레임을 합침\n",
    "merged_df = pd.merge(df3, df4, on='seq_id_position', how='outer')\n",
    "\n",
    "# 벤 다이어그램을 그리기 위한 데이터 추출\n",
    "set3 = set(df3['seq_id_position'])\n",
    "set4 = set(df4['seq_id_position'])\n",
    "venn_values = (len(set3 - set4), len(set3 & set4), len(set4 - set3))\n",
    "\n",
    "# 벤 다이어그램 그리기\n",
    "venn_labels = {'100': f\"{venn_values[0]}\",\n",
    "               '010': f\"{venn_values[2]}\",\n",
    "               '001': f\"{venn_values[1]}\"}\n",
    "\n",
    "plt.figure(figsize=(8, 8))\n",
    "venn = venn2(subsets=(len(set3 - set4), len(set4 - set3), len(set3 & set4)),\n",
    "                 set_labels=('RXW', 'RXW62'))\n",
    "venn.get_label_by_id('01').set_text(venn_labels['001'])\n",
    "\n",
    "#plt.title(\"Venn Diagram of DF3 and DF4\")\n",
    "\n",
    "plt.savefig('YXW.jpg', format = 'jpeg')\n",
    "plt.show()"
   ]
  },
  {
   "cell_type": "code",
   "execution_count": 36,
   "id": "6664224e",
   "metadata": {},
   "outputs": [],
   "source": [
    "#더 예쁜 그림을 원하면 https://bioinformatics.psb.ugent.be/webtools/Venn/ 사용 리스트에 필요한 경우 실행\n",
    "#excel_file = \"Raw.xlsx\" # 빈 엑셀 파일 하나 이름 정해 넣을 것\n",
    "#with pd.ExcelWriter(excel_file, engine='openpyxl', mode='a') as writer:\n",
    "#    df1.to_excel(writer, sheet_name='RXI_raw', index=False)\n",
    "#    df2.to_excel(writer, sheet_name='RXI22_raw', index=False)\n",
    "#    df3.to_excel(writer, sheet_name='RXW_raw', index=False)\n",
    "#    df4.to_excel(writer, sheet_name='RXW62_raw', index=False)"
   ]
  },
  {
   "cell_type": "code",
   "execution_count": null,
   "id": "6a576c58",
   "metadata": {},
   "outputs": [],
   "source": []
  }
 ],
 "metadata": {
  "kernelspec": {
   "display_name": "Python 3 (ipykernel)",
   "language": "python",
   "name": "python3"
  },
  "language_info": {
   "codemirror_mode": {
    "name": "ipython",
    "version": 3
   },
   "file_extension": ".py",
   "mimetype": "text/x-python",
   "name": "python",
   "nbconvert_exporter": "python",
   "pygments_lexer": "ipython3",
   "version": "3.7.7"
  }
 },
 "nbformat": 4,
 "nbformat_minor": 5
}
