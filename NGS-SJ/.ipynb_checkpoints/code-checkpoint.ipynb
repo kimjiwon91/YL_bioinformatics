{
 "cells": [
  {
   "cell_type": "code",
   "execution_count": null,
   "id": "672cee06",
   "metadata": {},
   "outputs": [],
   "source": [
    "### Whole genome sequencing data analysis ###\n",
    "\n",
    "## 가상환경 구축\n",
    "# conda create -n breseq2 #'breseq2'=가상환경 이름\n",
    "# conda activate breseq2\n",
    "\n",
    "## 패키지 인스톨\n",
    "# conda install -c conda-forge gzip\n",
    "# conda install -c bioconda trim-galore\n",
    "# conda install -c bioconda breseq\n",
    "# conda install -c conda-forge r-base"
   ]
  },
  {
   "cell_type": "code",
   "execution_count": null,
   "id": "19c3979a",
   "metadata": {},
   "outputs": [],
   "source": [
    "# 분석자료 준비\n",
    "\n",
    "## 시퀀싱 데이터 퀄리티 확인\n",
    "# gunzip RXI_1.fastq.gz\n",
    "# trim_galore -o ./trimming RXI_1.fastq --paired --fastqc --illumina\n",
    "\n",
    "## Annotated reference genome data 확인\n",
    "# Cupriavidus necator H16: https://www.ncbi.nlm.nih.gov/datasets/genome/GCF_004798725.1/\n",
    "# reference genome: GCA_004798725.1_ASM479872v1_genome.gbff"
   ]
  },
  {
   "cell_type": "code",
   "execution_count": 1,
   "id": "470d2c85",
   "metadata": {},
   "outputs": [],
   "source": [
    "## breseq 러닝\n",
    "\n",
    "## genome 파일, 시퀀싱 파일 저장된 경로로 이동\n",
    "# cd /Users/jiwonkim/Downloads\n",
    "\n",
    "## breseq -j 8 -p -r GCA_004798725.1_ASM479872v1_genome.gbff RXI_1_val_1.fq RXI_2_val_2.fq -o breseq_output_RXI\n",
    "# -j 8 : threads number=8\n",
    "# -r GCA_004798725.1_ASM479872v1_genome.gbff.gbff : \n",
    "#     reference genome이 GCA_004798725.1_ASM479872v1_genome.gbff.gbff라고 알림\n",
    "# -o breseq_output_RXI : 결과 파일이 breseq_output_RXI 폴더에 저장되도록 지시"
   ]
  },
  {
   "cell_type": "code",
   "execution_count": null,
   "id": "e3997a29",
   "metadata": {},
   "outputs": [],
   "source": []
  }
 ],
 "metadata": {
  "kernelspec": {
   "display_name": "Python 3 (ipykernel)",
   "language": "python",
   "name": "python3"
  },
  "language_info": {
   "codemirror_mode": {
    "name": "ipython",
    "version": 3
   },
   "file_extension": ".py",
   "mimetype": "text/x-python",
   "name": "python",
   "nbconvert_exporter": "python",
   "pygments_lexer": "ipython3",
   "version": "3.10.4"
  }
 },
 "nbformat": 4,
 "nbformat_minor": 5
}
