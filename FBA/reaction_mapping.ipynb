{
 "cells": [
  {
   "cell_type": "code",
   "execution_count": 10,
   "id": "11a4d897",
   "metadata": {},
   "outputs": [],
   "source": [
    "import pandas as pd\n",
    "import numpy as np\n",
    "from io import StringIO"
   ]
  },
  {
   "cell_type": "code",
   "execution_count": 11,
   "id": "b0e8f774",
   "metadata": {},
   "outputs": [
    {
     "data": {
      "text/plain": [
       "Index(['No.', 'original_reaction', 'reaction_ID', 'xml_equation', 'bigg_name'], dtype='object')"
      ]
     },
     "execution_count": 11,
     "metadata": {},
     "output_type": "execute_result"
    }
   ],
   "source": [
    "df_ref = pd.read_csv('iYLI647_reactions.csv')\n",
    "df_phyt = pd.read_csv('iYLI647_FBA_FSEOF_PHYT.csv')\n",
    "df_sqls = pd.read_csv('iYLI647_FBA_FSEOF_SQLS.csv')\n",
    "df_ref.columns"
   ]
  },
  {
   "cell_type": "code",
   "execution_count": 17,
   "id": "72ff7c0e",
   "metadata": {},
   "outputs": [],
   "source": [
    "df_phyt2 = pd.merge(df_ref, df_phyt, on = 'reaction_ID')\n",
    "df_phyt3 = df_phyt2.drop(['No.', 'original_reaction', 'xml_equation'], axis='columns')\n",
    "df_phyt3.to_csv ('PHYT.csv', index = True, header=True)"
   ]
  },
  {
   "cell_type": "code",
   "execution_count": 18,
   "id": "83f8a863",
   "metadata": {},
   "outputs": [],
   "source": [
    "df_sqls2 = pd.merge(df_ref, df_sqls, on = 'reaction_ID')\n",
    "df_sqls3 = df_sqls2.drop(['No.', 'original_reaction', 'xml_equation'], axis='columns')\n",
    "df_sqls3.to_csv ('SQLS.csv', index = True, header=True)"
   ]
  },
  {
   "cell_type": "code",
   "execution_count": null,
   "id": "db0245f1",
   "metadata": {},
   "outputs": [],
   "source": []
  }
 ],
 "metadata": {
  "kernelspec": {
   "display_name": "Python 3 (ipykernel)",
   "language": "python",
   "name": "python3"
  },
  "language_info": {
   "codemirror_mode": {
    "name": "ipython",
    "version": 3
   },
   "file_extension": ".py",
   "mimetype": "text/x-python",
   "name": "python",
   "nbconvert_exporter": "python",
   "pygments_lexer": "ipython3",
   "version": "3.7.11"
  }
 },
 "nbformat": 4,
 "nbformat_minor": 5
}
