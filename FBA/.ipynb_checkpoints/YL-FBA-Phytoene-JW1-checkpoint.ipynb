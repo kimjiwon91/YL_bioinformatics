{
 "cells": [
  {
   "cell_type": "markdown",
   "id": "55568762",
   "metadata": {},
   "source": [
    "# Importing packages in virtual environment to jupyter notebook"
   ]
  },
  {
   "cell_type": "markdown",
   "id": "21d64de8",
   "metadata": {},
   "source": [
    "Packages:\n"
   ]
  },
  {
   "cell_type": "code",
   "execution_count": null,
   "id": "54a8bc9f",
   "metadata": {},
   "outputs": [],
   "source": [
    "import numpy as np\n",
    "import pandas as pd\n",
    "\n",
    "import cobra\n",
    "from cobra import Metabolite\n",
    "from cobra import Reaction\n",
    "\n",
    "import os\n",
    "from os.path import join\n",
    "from cobra.io import read_sbml_model\n",
    "from cameo import fba"
   ]
  },
  {
   "cell_type": "code",
   "execution_count": null,
   "id": "805ff3fa",
   "metadata": {},
   "outputs": [],
   "source": [
    "import cameo\n",
    "from cameo.strain_design.deterministic.flux_variability_based import FSEOF"
   ]
  },
  {
   "cell_type": "markdown",
   "id": "9569660f",
   "metadata": {},
   "source": [
    "# Loading model"
   ]
  },
  {
   "cell_type": "code",
   "execution_count": null,
   "id": "f7a7d13d",
   "metadata": {},
   "outputs": [],
   "source": [
    "#os.getcwd() # reveal currunt location of jupyter notebook"
   ]
  },
  {
   "cell_type": "code",
   "execution_count": null,
   "id": "1d5a1b51",
   "metadata": {},
   "outputs": [],
   "source": [
    "model = read_sbml_model('iYLI647.xml') #iYLI647.xml\n",
    "model.solver"
   ]
  },
  {
   "cell_type": "code",
   "execution_count": null,
   "id": "622f3de5",
   "metadata": {},
   "outputs": [],
   "source": [
    "#fba(model) # objective=growth(biomass)"
   ]
  },
  {
   "cell_type": "markdown",
   "id": "cafcb311",
   "metadata": {},
   "source": [
    "# Optimizing growth medium"
   ]
  },
  {
   "cell_type": "code",
   "execution_count": null,
   "id": "03dde057",
   "metadata": {
    "scrolled": true
   },
   "outputs": [],
   "source": [
    "#model.medium # before"
   ]
  },
  {
   "cell_type": "code",
   "execution_count": null,
   "id": "9a75f6f3",
   "metadata": {},
   "outputs": [],
   "source": [
    "# adjusted as experimental growth condition\n",
    "\n",
    "modified = model.medium\n",
    "modified[\"EX_glc_LPAREN_e_RPAREN_\"]=20      # Glucose exchange 20 mmol/gDW/h\n",
    "modified[\"EX_h2o_LPAREN_e_RPAREN_\"]=1000    # H2O exchange\n",
    "modified[\"EX_o2_LPAREN_e_RPAREN_\"]=1000     # O2 exchange\n",
    "modified[\"EX_h_LPAREN_e_RPAREN_\"]=1000      # H exchange\n",
    "modified[\"EX_inost_LPAREN_e_RPAREN_\"]=1000     # myo Inositol exchange\n",
    "modified[\"EX_k_LPAREN_e_RPAREN_\"]=1000      # K exchange\n",
    "modified[\"EX_na1_LPAREN_e_RPAREN_\"]=1000    # Sodium exchange\n",
    "modified[\"EX_nh4_LPAREN_e_RPAREN_\"]=1000    # Ammonia exchange\n",
    "modified[\"EX_pi_LPAREN_e_RPAREN_\"]=1000     # Phosphate exchange\n",
    "modified[\"EX_so4_LPAREN_e_RPAREN_\"]=1000    # Sulfate exchange\n",
    "modified[\"trehalose_c_tp\"]=0                # trehalose c tp\n",
    "model.medium = modified"
   ]
  },
  {
   "cell_type": "code",
   "execution_count": null,
   "id": "13907d04",
   "metadata": {},
   "outputs": [],
   "source": [
    "#model.medium # after"
   ]
  },
  {
   "cell_type": "markdown",
   "id": "10086949",
   "metadata": {},
   "source": [
    "# In silico manipulation of strain and growth"
   ]
  },
  {
   "cell_type": "markdown",
   "id": "0d3911f9",
   "metadata": {},
   "source": [
    "###### Genes in the mevalonate pathway\n",
    "\n",
    "ERG10   YALI0E11099g <br/>\n",
    "ERG13   YALI0F30481g <br/>\n",
    "HMG1   YALI0E04807g <br/>\n",
    "ERG12   YALI0B16038g <br/>\n",
    "ERG8   YALI0E06193g <br/>\n",
    "ERG19   YALI0F05632g <br/>\n",
    "IDI1   YALI0F04015g <br/>\n",
    "ERG20   YALI0E05753g (rxn: DMATT, GRTT) <br/>\n",
    "GGS1   YALI0D17050g"
   ]
  },
  {
   "cell_type": "markdown",
   "id": "6cb4ae89",
   "metadata": {},
   "source": [
    "## Metabolites added"
   ]
  },
  {
   "cell_type": "code",
   "execution_count": null,
   "id": "d7a62cf4",
   "metadata": {},
   "outputs": [],
   "source": [
    "# add GGPP as metabolite in this model\n",
    "ggdp_c = Metabolite('ggdp_c',\n",
    "                    formula='C20H33O7P2',\n",
    "                    name='Geranylgeranyl diphosphate',\n",
    "                    compartment='c')\n",
    "model.add_metabolites(ggdp_c)\n",
    "model.add_boundary(model.metabolites.get_by_id('ggdp_c'), type=\"demand\")  #reversible: exchange, sink / irreversible: demand"
   ]
  },
  {
   "cell_type": "code",
   "execution_count": null,
   "id": "dec71cec",
   "metadata": {},
   "outputs": [],
   "source": [
    "# add phytoene as metabolite in this model\n",
    "phyto_c = Metabolite('phyto_c', \n",
    "                     formula = 'C40H64',\n",
    "                     name = 'phytoene-all_trans',\n",
    "                     compartment = 'c')\n",
    "model.add_metabolites(phyto_c)\n",
    "model.add_boundary(model.metabolites.get_by_id('phyto_c'), type=\"demand\")"
   ]
  },
  {
   "cell_type": "markdown",
   "id": "a2fa8170",
   "metadata": {},
   "source": [
    "## Reaction deleted"
   ]
  },
  {
   "cell_type": "code",
   "execution_count": null,
   "id": "d55072d5",
   "metadata": {},
   "outputs": [],
   "source": [
    "# remove mevalonate kinase using GTP/UTP/CTP\n",
    "model.reactions.MEVK2.knock_out()\n",
    "model.reactions.MEVK3.knock_out()\n",
    "model.reactions.MEVK4.knock_out()"
   ]
  },
  {
   "cell_type": "code",
   "execution_count": null,
   "id": "f0b1f123",
   "metadata": {},
   "outputs": [],
   "source": [
    "#model.reactions.get_by_id('MEVK2') # Upper bound = Lower bound = 0"
   ]
  },
  {
   "cell_type": "markdown",
   "id": "46a80f1b",
   "metadata": {},
   "source": [
    "## Reaction modified"
   ]
  },
  {
   "cell_type": "code",
   "execution_count": null,
   "id": "a5eb3434",
   "metadata": {},
   "outputs": [],
   "source": [
    "# remove YALI0D17050g in DMATT, GRTT reactions\n",
    "\n",
    "DMATT = model.reactions.get_by_id('DMATT')\n",
    "DMATT.gene_reaction_rule = ('YALI0E05753g')\n",
    "\n",
    "GRTT = model.reactions.get_by_id('GRTT')\n",
    "GRTT.gene_reaction_rule = ('YALI0E05753g')"
   ]
  },
  {
   "cell_type": "code",
   "execution_count": null,
   "id": "267cb6cd",
   "metadata": {},
   "outputs": [],
   "source": [
    "#model.reactions.get_by_id('DMATT') # confirmation\n",
    "#model.reactions.get_by_id('GRTT')\n",
    "#model.genes.get_by_id('YALI0D17050g')"
   ]
  },
  {
   "cell_type": "markdown",
   "id": "3dd6a669",
   "metadata": {},
   "source": [
    "## Reaction added"
   ]
  },
  {
   "cell_type": "code",
   "execution_count": null,
   "id": "af9b8669",
   "metadata": {},
   "outputs": [],
   "source": [
    "# GGS1, YALI0D17050g, Farnesyltransferase : frdp_c + ipdp_c --> ggdp_c + ppi_c\n",
    "reaction3 = Reaction('GGS1')\n",
    "reaction3.name = 'Farnesyltransferase'\n",
    "reaction3.lower_bound = 0\n",
    "reaction3.upper_bound = 1000\n",
    "reaction3.add_metabolites({\n",
    "    model.metabolites.get_by_id('frdp_c'): -1.0,\n",
    "    model.metabolites.get_by_id('ipdp_c'): -1.0,\n",
    "    model.metabolites.get_by_id('ggdp_c'): 1.0,\n",
    "    model.metabolites.get_by_id('ppi_c'): 1.0})\n",
    "reaction3.gene_reaction_rule = 'YALI0D17050g'\n",
    "model.add_reaction(reaction3)"
   ]
  },
  {
   "cell_type": "code",
   "execution_count": null,
   "id": "416d3825",
   "metadata": {},
   "outputs": [],
   "source": [
    "# carRP, phytoene synthase : ggdp_c + h_c --> phyto_c + ppi_c\n",
    "reaction4 = Reaction('PHYT')\n",
    "reaction4.name = 'phytoene_synthase'\n",
    "reaction4.lower_bound = 0\n",
    "reaction4.upper_bound = 1000\n",
    "reaction4.add_metabolites({\n",
    "    model.metabolites.get_by_id('ggdp_c'): -2.0,\n",
    "    model.metabolites.get_by_id('h_c'): 2.0,\n",
    "    model.metabolites.get_by_id('phyto_c'): 1.0,\n",
    "    model.metabolites.get_by_id('ppi_c'): 2.0})\n",
    "reaction4.gene_reaction_rule = 'McCarRP'\n",
    "model.add_reaction(reaction4)"
   ]
  },
  {
   "cell_type": "markdown",
   "id": "642f21e9",
   "metadata": {},
   "source": [
    "# FVA (flux variability analysis)"
   ]
  },
  {
   "cell_type": "code",
   "execution_count": null,
   "id": "e6ccb44c",
   "metadata": {},
   "outputs": [],
   "source": [
    "fseof = FSEOF(model)\n",
    "fs = fseof.run(target=model.reactions.PHYT, max_enforced_flux=0.9)\n",
    "fsdf = pd.DataFrame(fs.data_frame)\n",
    "fsdf['reaction_ID'] = fsdf.index\n",
    "fsdf"
   ]
  },
  {
   "cell_type": "markdown",
   "id": "da69f117",
   "metadata": {},
   "source": [
    "# Exporting datas as excel file"
   ]
  },
  {
   "cell_type": "code",
   "execution_count": null,
   "id": "2cf084f7",
   "metadata": {},
   "outputs": [],
   "source": [
    "df = pd.read_excel('iYLI647_reactions.xlsx')\n",
    "df.set_index('reaction_ID', inplace=True)"
   ]
  },
  {
   "cell_type": "code",
   "execution_count": null,
   "id": "6636a9c5",
   "metadata": {},
   "outputs": [],
   "source": [
    "fsdf1 = pd.merge(fsdf, df, left_index=True, right_index=True, how='left')\n",
    "fsdf1.to_excel ('Phytoene_FSEOF_1.xlsx', index = True, header=True)"
   ]
  },
  {
   "cell_type": "markdown",
   "id": "2e577fac",
   "metadata": {},
   "source": [
    "## etc: search & confirmation in model (get_by_id)"
   ]
  },
  {
   "cell_type": "code",
   "execution_count": null,
   "id": "ad185db5",
   "metadata": {},
   "outputs": [],
   "source": [
    "model.genes.get_by_id('YALI0D17050g')\n",
    "#model.reactions.get_by_id('ETOHtm')"
   ]
  },
  {
   "cell_type": "code",
   "execution_count": null,
   "id": "15a947e5",
   "metadata": {},
   "outputs": [],
   "source": [
    "model.reactions.get_by_id('DMATT')"
   ]
  },
  {
   "cell_type": "code",
   "execution_count": null,
   "id": "0b1781b5",
   "metadata": {},
   "outputs": [],
   "source": [
    "model.genes.get_by_id('YALI0B16038g')"
   ]
  },
  {
   "cell_type": "code",
   "execution_count": null,
   "id": "092b7890",
   "metadata": {},
   "outputs": [],
   "source": []
  }
 ],
 "metadata": {
  "kernelspec": {
   "display_name": "Python 3 (ipykernel)",
   "language": "python",
   "name": "python3"
  },
  "language_info": {
   "codemirror_mode": {
    "name": "ipython",
    "version": 3
   },
   "file_extension": ".py",
   "mimetype": "text/x-python",
   "name": "python",
   "nbconvert_exporter": "python",
   "pygments_lexer": "ipython3",
   "version": "3.10.4"
  }
 },
 "nbformat": 4,
 "nbformat_minor": 5
}
