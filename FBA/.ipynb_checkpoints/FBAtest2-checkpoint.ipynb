{
 "cells": [
  {
   "cell_type": "code",
   "execution_count": 1,
   "id": "d8c22bb1",
   "metadata": {},
   "outputs": [
    {
     "ename": "ModuleNotFoundError",
     "evalue": "No module named 'cobra'",
     "output_type": "error",
     "traceback": [
      "\u001b[0;31m---------------------------------------------------------------------------\u001b[0m",
      "\u001b[0;31mModuleNotFoundError\u001b[0m                       Traceback (most recent call last)",
      "Input \u001b[0;32mIn [1]\u001b[0m, in \u001b[0;36m<cell line: 2>\u001b[0;34m()\u001b[0m\n\u001b[1;32m      1\u001b[0m \u001b[38;5;28;01mimport\u001b[39;00m \u001b[38;5;21;01mnumpy\u001b[39;00m \u001b[38;5;28;01mas\u001b[39;00m \u001b[38;5;21;01mnp\u001b[39;00m\n\u001b[0;32m----> 2\u001b[0m \u001b[38;5;28;01mimport\u001b[39;00m \u001b[38;5;21;01mcobra\u001b[39;00m\n\u001b[1;32m      3\u001b[0m \u001b[38;5;28;01mimport\u001b[39;00m \u001b[38;5;21;01mos\u001b[39;00m\n\u001b[1;32m      4\u001b[0m \u001b[38;5;28;01mfrom\u001b[39;00m \u001b[38;5;21;01mos\u001b[39;00m\u001b[38;5;21;01m.\u001b[39;00m\u001b[38;5;21;01mpath\u001b[39;00m \u001b[38;5;28;01mimport\u001b[39;00m join\n",
      "\u001b[0;31mModuleNotFoundError\u001b[0m: No module named 'cobra'"
     ]
    }
   ],
   "source": [
    "import numpy as np\n",
    "import cobra\n",
    "import os\n",
    "from os.path import join\n",
    "from cobra.io import read_sbml_model\n",
    "from cameo import fba\n",
    "\n",
    "model = read_sbml_model('iYLI647.xml')\n",
    "model.solver"
   ]
  },
  {
   "cell_type": "code",
   "execution_count": null,
   "id": "c202f797",
   "metadata": {},
   "outputs": [],
   "source": [
    "modified = model.medium\n",
    "modified[\"EX_glc_LPAREN_e_RPAREN_\"]=20      # Glucose exchange 20 mmol/gDW/h\n",
    "modified[\"EX_h2o_LPAREN_e_RPAREN_\"]=1000    # H2O exchange\n",
    "modified[\"EX_o2_LPAREN_e_RPAREN_\"]=1000     # O2 exchange\n",
    "modified[\"EX_h_LPAREN_e_RPAREN_\"]=1000      # H exchange\n",
    "modified[\"EX_inost_LPAREN_e_RPAREN_\"]=1000     # myo Inositol exchange\n",
    "modified[\"EX_k_LPAREN_e_RPAREN_\"]=1000      # K exchange\n",
    "modified[\"EX_na1_LPAREN_e_RPAREN_\"]=1000    # Sodium exchange\n",
    "modified[\"EX_nh4_LPAREN_e_RPAREN_\"]=1000    # Ammonia exchange\n",
    "modified[\"EX_pi_LPAREN_e_RPAREN_\"]=1000     # Phosphate exchange\n",
    "modified[\"EX_so4_LPAREN_e_RPAREN_\"]=1000    # Sulfate exchange\n",
    "modified[\"trehalose_c_tp\"]=0                # trehalose c tp\n",
    "model.medium = modified"
   ]
  },
  {
   "cell_type": "code",
   "execution_count": null,
   "id": "c47601a9",
   "metadata": {},
   "outputs": [],
   "source": [
    "model.genes.YALI0D17050g.knock_out()  # GGS1\n",
    "model.genes.YALI0E05753g.knock_out()  # ERG20\n",
    "model.genes.YALI0E04807g.knock_out()  # HMGR"
   ]
  },
  {
   "cell_type": "code",
   "execution_count": null,
   "id": "fb30cb81",
   "metadata": {},
   "outputs": [],
   "source": [
    "from cobra import Metabolite\n",
    "from cobra import Reaction\n",
    "\n",
    "ggdp_c = Metabolite('ggdp_c', formula='C20H33O7P2', name='Geranylgeranyl diphosphate', compartment='c')\n",
    "\n",
    "model.add_metabolites([\n",
    "    Metabolite('ggdp_c', formula='C20H33O7P2', name='Geranylgeranyl diphosphate', compartment='c')   \n",
    "    ])\n",
    "model.add_boundary(model.metabolites.get_by_id('ggdp_c'), type=\"demand\")  #reversible: exchange, sink / irreversible: demand\n",
    "\n",
    "reaction1 = Reaction('DMATTmodi')\n",
    "reaction1.name = 'Dimethylallyltranstransferase'\n",
    "reaction1.lower_bound = 0\n",
    "reaction1.upper_bound = 1000\n",
    "reaction1.add_metabolites({\n",
    "    model.metabolites.get_by_id('dmpp_c'): -1.0,\n",
    "    model.metabolites.get_by_id('ipdp_c'): -1.0,\n",
    "    model.metabolites.get_by_id('grdp_c'): 1.0,\n",
    "    model.metabolites.get_by_id('ppi_c'): 1.0})\n",
    "reaction1.gene_reaction_rule = 'YALI0E05753g'\n",
    "model.add_reaction(reaction1)\n",
    "\n",
    "# ERG20, YALI0E05753g, Geranyltranstransferase : grdp_c + ipdp_c --> frdp_c + ppi_c\n",
    "reaction2 = Reaction('GRTTmodi')\n",
    "reaction2.name = 'Geranyltranstransferase'\n",
    "reaction2.lower_bound = 0\n",
    "reaction2.upper_bound = 1000\n",
    "reaction2.add_metabolites({\n",
    "    model.metabolites.get_by_id('grdp_c'): -1.0,\n",
    "    model.metabolites.get_by_id('ipdp_c'): -1.0,\n",
    "    model.metabolites.get_by_id('frdp_c'): 1.0,\n",
    "    model.metabolites.get_by_id('ppi_c'): 1.0})\n",
    "reaction2.gene_reaction_rule = 'YALI0E05753g'\n",
    "model.add_reaction(reaction2)\n",
    "\n",
    "\n",
    "# GGS1, YALI0D17050g, Farnesyltransferase : frdp_c + ipdp_c --> ggdp_c + ppi_c\n",
    "reaction3 = Reaction('GGS1_r0373')\n",
    "reaction3.name = 'Farnesyltransferase'\n",
    "reaction3.lower_bound = 0\n",
    "reaction3.upper_bound = 1000\n",
    "reaction3.add_metabolites({\n",
    "    model.metabolites.get_by_id('frdp_c'): -1.0,\n",
    "    model.metabolites.get_by_id('ipdp_c'): -1.0,\n",
    "    model.metabolites.get_by_id('ggdp_c'): 1.0,\n",
    "    model.metabolites.get_by_id('ppi_c'): 1.0})\n",
    "reaction3.gene_reaction_rule = 'YALI0D17050g'\n",
    "model.add_reaction(reaction3)\n",
    "\n",
    "# add phytoene as metabolite in this model\n",
    "phyto_c = Metabolite('phyto_c', formula = 'C40H64', name = 'phytoene-all_trans', compartment = 'c')\n",
    "model.add_metabolites(phyto_c)\n",
    "model.add_boundary(model.metabolites.get_by_id('phyto_c'), type=\"demand\")\n",
    "\n",
    "# carRP, phytoene synthase : ggdp_c + h_c --> phyto_c + ppi_c\n",
    "reaction4 = Reaction('PHYT')\n",
    "reaction4.name = 'phytoene_synthase'\n",
    "reaction4.lower_bound = 0\n",
    "reaction4.upper_bound = 1000\n",
    "reaction4.add_metabolites({\n",
    "    model.metabolites.get_by_id('ggdp_c'): -2.0,\n",
    "    model.metabolites.get_by_id('h_c'): 2.0,\n",
    "    model.metabolites.get_by_id('phyto_c'): 1.0,\n",
    "    model.metabolites.get_by_id('ppi_c'): 2.0})\n",
    "reaction4.gene_reaction_rule = 'McCarRP'\n",
    "model.add_reaction(reaction4)\n",
    "\n",
    "#redefine HMGCOAR\n",
    "reaction5 = Reaction('HMGCOAR1')\n",
    "reaction5.name = 'HMG-CoA reductase'\n",
    "reaction5.lower_bound = 0\n",
    "reaction5.upper_bound = 1000\n",
    "reaction5.add_metabolites({\n",
    "    model.metabolites.get_by_id('coa_c'): 1.0,\n",
    "    model.metabolites.get_by_id('mev_R_c'): 1.0,\n",
    "    model.metabolites.get_by_id('nadp_c'): 2.0,\n",
    "    model.metabolites.get_by_id('h_c'): -2.0,\n",
    "    model.metabolites.get_by_id('nadph_c'): -2.0,\n",
    "    model.metabolites.get_by_id('hmgcoa_c'): -1.0})\n",
    "reaction5.gene_reaction_rule = 'YALI0E04807g'\n",
    "model.add_reaction(reaction5)"
   ]
  },
  {
   "cell_type": "code",
   "execution_count": null,
   "id": "56ff13df",
   "metadata": {},
   "outputs": [],
   "source": [
    "model.reactions.get_by_id('ETOHtm')"
   ]
  },
  {
   "cell_type": "code",
   "execution_count": null,
   "id": "d44e6561",
   "metadata": {},
   "outputs": [],
   "source": [
    "model.genes.YALI0E18634g.knock_out()  # malic enzyme\n",
    "model.genes.YALI0B16038g.knock_out()  # mevalonate kinase\n",
    "model.genes.YALI0E17787g.knock_out()  # alcohol dehydrogenase ethanol\n",
    "model.genes.YALI0E17787g.knock_out()  # alcohol dehydrogenase ethanol mitochondrial"
   ]
  },
  {
   "cell_type": "code",
   "execution_count": null,
   "id": "1f4ff01a",
   "metadata": {},
   "outputs": [],
   "source": [
    "from cobra import Metabolite\n",
    "from cobra import Reaction\n",
    "\n",
    "#redefine Mevalonate kinase\n",
    "reaction6 = Reaction('MEVK4-1')\n",
    "reaction6.name = 'mevalonate kinase'\n",
    "reaction6.lower_bound = 0\n",
    "reaction6.upper_bound = 1000\n",
    "reaction6.add_metabolites({\n",
    "    model.metabolites.get_by_id('mev_R_c'): -1.0,\n",
    "    model.metabolites.get_by_id('atp_c'): -1.0,\n",
    "    model.metabolites.get_by_id('5pmev_c'): 1.0,\n",
    "    model.metabolites.get_by_id('h_c'): 1.0,\n",
    "    model.metabolites.get_by_id('adp_c'): 1.0\n",
    "    })\n",
    "reaction6.gene_reaction_rule = 'YALI0B16038g'\n",
    "model.add_reaction(reaction6)"
   ]
  },
  {
   "cell_type": "code",
   "execution_count": null,
   "id": "1c8484ba",
   "metadata": {},
   "outputs": [],
   "source": [
    "model.reactions.get_by_id('HMGCOAR1')"
   ]
  },
  {
   "cell_type": "code",
   "execution_count": null,
   "id": "7b202af6",
   "metadata": {
    "scrolled": true
   },
   "outputs": [],
   "source": [
    "from cameo.strain_design.deterministic.flux_variability_based import FSEOF\n",
    "import pandas as pd\n",
    "\n",
    "fseof = FSEOF(model)\n",
    "fs = fseof.run(target=model.reactions.PHYT, max_enforced_flux=0.9)\n",
    "fsdf = pd.DataFrame(fs.data_frame)\n",
    "\n",
    "fsdf['reaction_ID'] = fsdf.index\n",
    "#fsdf.reset_index()\n",
    "\n",
    "fsdf"
   ]
  },
  {
   "cell_type": "code",
   "execution_count": null,
   "id": "53b14198",
   "metadata": {},
   "outputs": [],
   "source": [
    "import pandas as pd\n",
    "df = pd.read_excel('iYLI647_reactions.xlsx')\n",
    "df.set_index('reaction_ID', inplace=True)\n",
    "#df.index.name = None\n",
    "df"
   ]
  },
  {
   "cell_type": "code",
   "execution_count": null,
   "id": "0b8e7a6e",
   "metadata": {},
   "outputs": [],
   "source": [
    "fsdf1 = pd.merge(fsdf, df, left_index=True, right_index=True, how='left')\n",
    "fsdf1"
   ]
  },
  {
   "cell_type": "code",
   "execution_count": null,
   "id": "48508c49",
   "metadata": {},
   "outputs": [],
   "source": [
    "fsdf1.to_csv ('iYLI647_FBA_FSEOF_PHYT_test10.csv', index = True, header=True)"
   ]
  }
 ],
 "metadata": {
  "kernelspec": {
   "display_name": "Python 3 (ipykernel)",
   "language": "python",
   "name": "python3"
  },
  "language_info": {
   "codemirror_mode": {
    "name": "ipython",
    "version": 3
   },
   "file_extension": ".py",
   "mimetype": "text/x-python",
   "name": "python",
   "nbconvert_exporter": "python",
   "pygments_lexer": "ipython3",
   "version": "3.8.13"
  }
 },
 "nbformat": 4,
 "nbformat_minor": 5
}
