{
 "cells": [
  {
   "cell_type": "code",
   "execution_count": null,
   "id": "47e10e5f",
   "metadata": {},
   "outputs": [],
   "source": [
    "import numpy as np\n",
    "import cobra\n",
    "import os\n",
    "from os.path import join\n",
    "from cobra.io import read_sbml_model\n",
    "from cameo import fba\n",
    "\n",
    "model = read_sbml_model('iYLI647.xml')\n",
    "model.solver\n",
    "\n",
    "modified = model.medium\n",
    "modified[\"EX_glc_LPAREN_e_RPAREN_\"]=20      # Glucose exchange 20 mmol/gDW/h\n",
    "modified[\"EX_h2o_LPAREN_e_RPAREN_\"]=1000    # H2O exchange\n",
    "modified[\"EX_o2_LPAREN_e_RPAREN_\"]=1000     # O2 exchange\n",
    "modified[\"EX_h_LPAREN_e_RPAREN_\"]=1000      # H exchange\n",
    "modified[\"EX_inost_LPAREN_e_RPAREN_\"]=1000     # myo Inositol exchange\n",
    "modified[\"EX_k_LPAREN_e_RPAREN_\"]=1000      # K exchange\n",
    "modified[\"EX_na1_LPAREN_e_RPAREN_\"]=1000    # Sodium exchange\n",
    "modified[\"EX_nh4_LPAREN_e_RPAREN_\"]=1000    # Ammonia exchange\n",
    "modified[\"EX_pi_LPAREN_e_RPAREN_\"]=1000     # Phosphate exchange\n",
    "modified[\"EX_so4_LPAREN_e_RPAREN_\"]=1000    # Sulfate exchange\n",
    "modified[\"trehalose_c_tp\"]=0                # trehalose c tp\n",
    "model.medium = modified\n",
    "\n",
    "model.genes.YALI0D17050g.knock_out()  # GGS1\n",
    "model.genes.YALI0E05753g.knock_out()  # ERG20\n",
    "\n",
    "\n",
    "from cobra import Metabolite\n",
    "\n",
    "ggdp_c = Metabolite('ggdp_c', formula='C20H33O7P2', name='Geranylgeranyl diphosphate', compartment='c')\n",
    "\n",
    "model.add_metabolites([\n",
    "    Metabolite('ggdp_c', formula='C20H33O7P2', name='Geranylgeranyl diphosphate', compartment='c')   \n",
    "    ])\n",
    "model.add_boundary(model.metabolites.get_by_id('ggdp_c'), type=\"demand\")  #reversible: exchange, sink / irreversible: demand\n",
    "\n",
    "# ERG20, YALI0E05753g, Dimethylallyltranstransferase : dmpp_c + ipdp_c --> grdp_c + ppi_c\n",
    "from cobra import Reaction\n",
    "\n",
    "reaction1 = Reaction('DMATTmodi')\n",
    "reaction1.name = 'Dimethylallyltranstransferase'\n",
    "reaction1.lower_bound = 0\n",
    "reaction1.upper_bound = 1000\n",
    "reaction1.add_metabolites({\n",
    "    model.metabolites.get_by_id('dmpp_c'): -1.0,\n",
    "    model.metabolites.get_by_id('ipdp_c'): -1.0,\n",
    "    model.metabolites.get_by_id('grdp_c'): 1.0,\n",
    "    model.metabolites.get_by_id('ppi_c'): 1.0})\n",
    "reaction1.gene_reaction_rule = 'YALI0E05753g'\n",
    "model.add_reaction(reaction1)\n",
    "\n",
    "\n",
    "# ERG20, YALI0E05753g, Geranyltranstransferase : grdp_c + ipdp_c --> frdp_c + ppi_c\n",
    "reaction2 = Reaction('GRTTmodi')\n",
    "reaction2.name = 'Geranyltranstransferase'\n",
    "reaction2.lower_bound = 0\n",
    "reaction2.upper_bound = 1000\n",
    "reaction2.add_metabolites({\n",
    "    model.metabolites.get_by_id('grdp_c'): -1.0,\n",
    "    model.metabolites.get_by_id('ipdp_c'): -1.0,\n",
    "    model.metabolites.get_by_id('frdp_c'): 1.0,\n",
    "    model.metabolites.get_by_id('ppi_c'): 1.0})\n",
    "reaction2.gene_reaction_rule = 'YALI0E05753g'\n",
    "model.add_reaction(reaction2)\n",
    "\n",
    "\n",
    "# GGS1, YALI0D17050g, Farnesyltransferase : frdp_c + ipdp_c --> ggdp_c + ppi_c\n",
    "reaction3 = Reaction('GGS1_r0373')\n",
    "reaction3.name = 'Farnesyltransferase'\n",
    "reaction3.lower_bound = 0\n",
    "reaction3.upper_bound = 1000\n",
    "reaction3.add_metabolites({\n",
    "    model.metabolites.get_by_id('frdp_c'): -1.0,\n",
    "    model.metabolites.get_by_id('ipdp_c'): -1.0,\n",
    "    model.metabolites.get_by_id('ggdp_c'): 1.0,\n",
    "    model.metabolites.get_by_id('ppi_c'): 1.0})\n",
    "reaction3.gene_reaction_rule = 'YALI0D17050g'\n",
    "model.add_reaction(reaction3)\n",
    "\n",
    "# add phytoene as metabolite in this model\n",
    "phyto_c = Metabolite('phyto_c', formula = 'C40H64', name = 'phytoene-all_trans', compartment = 'c')\n",
    "model.add_metabolites(phyto_c)\n",
    "model.add_boundary(model.metabolites.get_by_id('phyto_c'), type=\"demand\")\n",
    "\n",
    "# carRP, phytoene synthase : ggdp_c + h_c --> phyto_c + ppi_c\n",
    "reaction4 = Reaction('PHYT')\n",
    "reaction4.name = 'phytoene_synthase'\n",
    "reaction4.lower_bound = 0\n",
    "reaction4.upper_bound = 1000\n",
    "reaction4.add_metabolites({\n",
    "    model.metabolites.get_by_id('ggdp_c'): -2.0,\n",
    "    model.metabolites.get_by_id('h_c'): 2.0,\n",
    "    model.metabolites.get_by_id('phyto_c'): 1.0,\n",
    "    model.metabolites.get_by_id('ppi_c'): 2.0})\n",
    "reaction4.gene_reaction_rule = 'McCarRP'\n",
    "model.add_reaction(reaction4)"
   ]
  },
  {
   "cell_type": "code",
   "execution_count": null,
   "id": "a28ab5fe",
   "metadata": {},
   "outputs": [],
   "source": [
    "#model.reactions.get_by_id('ALCD2x').knock_out() #etoh_c + nad_c <==> acald_c + h_c + nadh_c\n",
    "#model.reactions.get_by_id('ALCD2m').knock_out() #etoh_m + nad_m <==> acald_m + h_m + nadh_m\n",
    "#model.reactions.get_by_id('EX_fum_LPAREN_e_RPAREN_').knock_out() # fum_e -->\n",
    "#model.reactions.get_by_id('EX_ala_L_LPAREN_e_RPAREN_').knock_out() # ala_L_e -->\n",
    "#model.reactions.get_by_id('EX_val_L_LPAREN_e_RPAREN_').knock_out() # val_L_e -->\n",
    "#model.reactions.get_by_id('EX_for_LPAREN_e_RPAREN_').knock_out() # for_e -->"
   ]
  },
  {
   "cell_type": "code",
   "execution_count": null,
   "id": "a3cb1d5b",
   "metadata": {},
   "outputs": [],
   "source": [
    "from cameo.strain_design.deterministic.flux_variability_based import FSEOF\n",
    "import pandas as pd\n",
    "\n",
    "df = pd.DataFrame()\n",
    "\n",
    "data = (1, 2, 5, 10, 20, 40, 60, 80, 100, 120, 140, 160, 180, 200, 500, 1000)\n",
    "\n",
    "for i in data:\n",
    "    modified[\"EX_glc_LPAREN_e_RPAREN_\"] = i      # Glucose exchange 20 mmol/gDW/h\n",
    "    modified[\"EX_o2_LPAREN_e_RPAREN_\"] = 1000     # O2 exchange\n",
    "    modified[\"EX_nh4_LPAREN_e_RPAREN_\"]=1000    # Ammonia exchange\n",
    "    \n",
    "    model.medium = modified\n",
    "    fseof = FSEOF(model)\n",
    "    fs = fseof.run(target=model.reactions.PHYT, max_enforced_flux=0.9)\n",
    "    fsdf = pd.DataFrame(fs.data_frame)\n",
    "\n",
    "    #column 확인\n",
    "    #fsdf.columns # column name 확인\n",
    "    #fsdf.columns.map(type) # column name type 확인\n",
    "    \n",
    "    fsdf.columns = fsdf.columns.map(str)\n",
    "    #'1' in fsdf.columns # True or False return: str=True, int=False \n",
    "    \n",
    "    fsdf['flux_change' + str(i)] = fsdf['10'] - fsdf['1']\n",
    "    fsdf1 = fsdf['flux_change' + str(i)]\n",
    "    df = pd.merge(df, fsdf1, left_index=True, right_index=True, how='outer')\n",
    "df    \n",
    "df.to_csv ('iYLI647_FBA_FSEOF_PHYT_test4.csv', index=True, header=True)"
   ]
  },
  {
   "cell_type": "code",
   "execution_count": null,
   "id": "2c07ec5a",
   "metadata": {},
   "outputs": [],
   "source": [
    "#modified[\"EX_glc_LPAREN_e_RPAREN_\"] = 30      # Glucose exchange 20 mmol/gDW/h\n",
    "#modified[\"EX_o2_LPAREN_e_RPAREN_\"]=1000    # O2 exchange\n",
    "#modified[\"EX_nh4_LPAREN_e_RPAREN_\"]=1000\n",
    "#model.medium = modified\n",
    "#model.summary()"
   ]
  },
  {
   "cell_type": "code",
   "execution_count": null,
   "id": "64ac2c55",
   "metadata": {},
   "outputs": [],
   "source": [
    "#model.objective = 'biomass_C_limited'\n",
    "#model.reactions.get_by_id('ALCD2x').knock_out() #etoh_c + nad_c <==> acald_c + h_c + nadh_c\n",
    "#model.reactions.get_by_id('ALCD2m').knock_out() #etoh_m + nad_m <==> acald_m + h_m + nadh_m\n",
    "#model.reactions.get_by_id('EX_fum_LPAREN_e_RPAREN_').knock_out() # fum_e -->\n",
    "#model.reactions.get_by_id('EX_ala_L_LPAREN_e_RPAREN_').knock_out() # ala_L_e -->\n",
    "#model.reactions.get_by_id('EX_val_L_LPAREN_e_RPAREN_').knock_out() # val_L_e -->\n",
    "#model.reactions.get_by_id('EX_for_LPAREN_e_RPAREN_').knock_out() # for_e -->\n",
    "#model.summary()"
   ]
  },
  {
   "cell_type": "code",
   "execution_count": null,
   "id": "d3b92add",
   "metadata": {},
   "outputs": [],
   "source": [
    "#model.objective = 'PHYT'\n",
    "#model.reactions.get_by_id('PHYT').upper_bound = 1000"
   ]
  },
  {
   "cell_type": "code",
   "execution_count": null,
   "id": "b22759e8",
   "metadata": {},
   "outputs": [],
   "source": [
    "#biomass = model.reactions.biomass_C_limited\n",
    "#phyt = model.reactions.PHYT\n",
    "\n",
    "#new_objective = {biomass: 0.3, phyt: 0.7}\n",
    "#model.optimize(new_objective=new_objective)\n",
    "#model.summary()"
   ]
  },
  {
   "cell_type": "code",
   "execution_count": null,
   "id": "a82b6e42",
   "metadata": {},
   "outputs": [],
   "source": [
    "solution = model.optimize()\n",
    "#solution.objective_value\n",
    "#model.optimize().objective_value\n",
    "#model.metabolites.atp_c.summary()"
   ]
  },
  {
   "cell_type": "code",
   "execution_count": null,
   "id": "884821d9",
   "metadata": {},
   "outputs": [],
   "source": [
    "from cobra.util.solver import linear_reaction_coefficients\n",
    "linear_reaction_coefficients(model)\n",
    "\n",
    "model.objective = 'PHYT'\n",
    "model.reactions.get_by_id('PHYT').upper_bound = 1000\n",
    "linear_reaction_coefficients(model)"
   ]
  },
  {
   "cell_type": "code",
   "execution_count": null,
   "id": "e86f9dce",
   "metadata": {},
   "outputs": [],
   "source": [
    "model.optimize().objective_value"
   ]
  },
  {
   "cell_type": "code",
   "execution_count": null,
   "id": "a6148b47",
   "metadata": {},
   "outputs": [],
   "source": [
    "from cobra.flux_analysis import flux_variability_analysis\n",
    "loop_reactions = [model.reactions.biomass_C_limited, model.reactions.PHYT]\n",
    "flux_variability_analysis(model, reaction_list=loop_reactions, loopless=False)"
   ]
  },
  {
   "cell_type": "code",
   "execution_count": null,
   "id": "c58af0d6",
   "metadata": {},
   "outputs": [],
   "source": [
    "model.summary()"
   ]
  },
  {
   "cell_type": "code",
   "execution_count": 2,
   "id": "27263830",
   "metadata": {
    "scrolled": false
   },
   "outputs": [
    {
     "ename": "NameError",
     "evalue": "name 'model' is not defined",
     "output_type": "error",
     "traceback": [
      "\u001b[0;31m---------------------------------------------------------------------------\u001b[0m",
      "\u001b[0;31mNameError\u001b[0m                                 Traceback (most recent call last)",
      "\u001b[0;32m/tmp/ipykernel_3783/3823892438.py\u001b[0m in \u001b[0;36m<module>\u001b[0;34m\u001b[0m\n\u001b[0;32m----> 1\u001b[0;31m \u001b[0mmodel\u001b[0m\u001b[0;34m.\u001b[0m\u001b[0mreaction\u001b[0m\u001b[0;34m\u001b[0m\u001b[0;34m\u001b[0m\u001b[0m\n\u001b[0m",
      "\u001b[0;31mNameError\u001b[0m: name 'model' is not defined"
     ]
    }
   ],
   "source": []
  }
 ],
 "metadata": {
  "kernelspec": {
   "display_name": "Python 3 (ipykernel)",
   "language": "python",
   "name": "python3"
  },
  "language_info": {
   "codemirror_mode": {
    "name": "ipython",
    "version": 3
   },
   "file_extension": ".py",
   "mimetype": "text/x-python",
   "name": "python",
   "nbconvert_exporter": "python",
   "pygments_lexer": "ipython3",
   "version": "3.7.11"
  }
 },
 "nbformat": 4,
 "nbformat_minor": 5
}
