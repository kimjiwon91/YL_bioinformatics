{
 "cells": [
  {
   "cell_type": "code",
   "execution_count": null,
   "id": "15baa3a9",
   "metadata": {},
   "outputs": [],
   "source": [
    "import numpy as np\n",
    "import cobra\n",
    "import os\n",
    "from os.path import join\n",
    "from cobra.io import read_sbml_model\n",
    "from cameo import fba\n",
    "\n",
    "model = read_sbml_model('iYLI647.xml')\n",
    "model.solver\n",
    "\n",
    "modified = model.medium\n",
    "modified[\"EX_glc_LPAREN_e_RPAREN_\"]=20      # Glucose exchange 20 mmol/gDW/h\n",
    "modified[\"EX_h2o_LPAREN_e_RPAREN_\"]=1000    # H2O exchange\n",
    "modified[\"EX_o2_LPAREN_e_RPAREN_\"]=1000     # O2 exchange\n",
    "modified[\"EX_h_LPAREN_e_RPAREN_\"]=1000      # H exchange\n",
    "modified[\"EX_inost_LPAREN_e_RPAREN_\"]=1000     # myo Inositol exchange\n",
    "modified[\"EX_k_LPAREN_e_RPAREN_\"]=1000      # K exchange\n",
    "modified[\"EX_na1_LPAREN_e_RPAREN_\"]=1000    # Sodium exchange\n",
    "modified[\"EX_nh4_LPAREN_e_RPAREN_\"]=1000    # Ammonia exchange\n",
    "modified[\"EX_pi_LPAREN_e_RPAREN_\"]=1000     # Phosphate exchange\n",
    "modified[\"EX_so4_LPAREN_e_RPAREN_\"]=1000    # Sulfate exchange\n",
    "modified[\"trehalose_c_tp\"]=0                # trehalose c tp\n",
    "model.medium = modified"
   ]
  },
  {
   "cell_type": "code",
   "execution_count": null,
   "id": "0bed1c0b",
   "metadata": {},
   "outputs": [],
   "source": [
    "# Long chain FA를 목적으로할 때, DGA1이 타겟으로 나온다면 모델은 합당하지 않는가?를 테스트\n",
    "\n",
    "from cameo.strain_design.deterministic.flux_variability_based import FSEOF\n",
    "import pandas as pd\n",
    "\n",
    "fseof = FSEOF(model)\n",
    "fs = fseof.run(target=model.reactions.DDCAH, max_enforced_flux=0.9)\n",
    "fsdf = pd.DataFrame(fs.data_frame)\n",
    "fsdf.to_csv ('iYLI647_FBA_FSEOF_dodec_EX.csv', index=True, header=True)"
   ]
  },
  {
   "cell_type": "code",
   "execution_count": null,
   "id": "cf9af801",
   "metadata": {},
   "outputs": [],
   "source": [
    "model.reactions.get_by_id('ACCOACr')\n",
    "#model.genes.get_by_id('YALI0C11407g')"
   ]
  }
 ],
 "metadata": {
  "kernelspec": {
   "display_name": "Python 3 (ipykernel)",
   "language": "python",
   "name": "python3"
  },
  "language_info": {
   "codemirror_mode": {
    "name": "ipython",
    "version": 3
   },
   "file_extension": ".py",
   "mimetype": "text/x-python",
   "name": "python",
   "nbconvert_exporter": "python",
   "pygments_lexer": "ipython3",
   "version": "3.7.11"
  }
 },
 "nbformat": 4,
 "nbformat_minor": 5
}
